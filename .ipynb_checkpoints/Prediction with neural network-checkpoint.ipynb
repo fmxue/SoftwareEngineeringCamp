{
 "cells": [
  {
   "cell_type": "markdown",
   "metadata": {},
   "source": [
    "# 利用神经网络建立股票预测模型\n",
    "\n",
    "神经网络想必大家都有所耳闻，理论上我们可以用神经网络做到各种各样的事情，像我们这次要做的股票预测，再像电力系统自动化中的负荷预测、以及一些控制策略中，都可以用到神经网络。\n",
    "\n",
    "神经网络听起来很高端，其实一点都不可怕。为方便大家理解，下面简单介绍一些神经网络中比较基本的概念，大家不需要对算法有什么很深入的了解也可以写出很棒的代码。甚至下面的概念，能看懂当然最好不过，如果看不懂或者不想看可以直接把神经网络当作一个黑匣子，把特征放进去，神经网络处理一下，就可以得到你想要的结果，神奇吧。\n",
    "\n",
    "1.神经网络的组成\n",
    "\n",
    "神经网络由神经元组成。一个或多个**输入P**传递到神经元中，带有不同的**权重w**和**阈值b**，经过**激活函数f**处理后输出。我们写成公式就是这个样子：\n",
    "\n",
    "$$y=f(wP+b)$$\n",
    "\n",
    "BP算法的核心即信号的前向传播和误差的反向传播，通过误差对每个单元的权重和阈值进行调整，使误差沿梯度方向下降，直至获得误差最小时对应的网络参数，此时对应的输出就接近预期了。\n",
    "\n",
    "神经网络通常可以有一层输入层，一层输出层，以及若干个隐层(可以为零)。输入层的神经元个数一般等于**特征**的数量，输出层的神经元个数一般等于**标签**的数量。\n",
    "\n",
    "2.分类与回归，特征与标签\n",
    "\n",
    "不管是神经网络，任何机器学习的任务都分为这两种：分类与回归。\n",
    "\n",
    "分类好理解，比方说我们现在有一堆水果，里面有苹果橘子香蕉菠萝，我们要通过颜色、大小、形状这些**特征**来把水果分类出来，这就是分类。分类任务的**标签**就是刚刚说的几个类别，他往往是离散的，例如上述的{苹果，橘子，香蕉，菠萝}。\n",
    "\n",
    "回归，就更简单了。y=kx+b，x即**特征**，y即**标签**。显然我们这次的股价预测是一个回归任务。\n",
    "\n",
    "3.超参数(hpyerparameter)及其调节\n",
    "\n",
    "大家对参数(parameter)可能比较熟悉。我们上述的y=kx+b，k与b就是参数。我们之前说的神经元中的**权重w**和**阈值b**，也是参数。\n",
    "\n",
    "这里我们先给出参数的定义：参数即模型通过数据可以学习出的变量。\n",
    "\n",
    "而超参数则是用来确定模型的经验变量。\n",
    "\n",
    "简单说一下就是：参数是科学，而超参数是玄学。\n",
    "\n",
    "诸如我们之前说的，要不要加隐层，隐层加多少层，隐层的每一层要多少个神经元，每一层用什么激活函数合适，计算中采用哪种损失函数，优化算法选什么...等等等等，这些都是超参数。\n",
    "\n",
    "超参数的调节是依据经验的，但是没有关系，至今为止仍然没有一个确定的可以具有确切指导意义的设置超参数方法。要不要隐层，隐层多少层，多少神经元，你想怎么设置就怎么设置，动动手指头改个数字而已，不是什么难事，自己玩个几次就有经验了。\n",
    "\n",
    "那我要怎么知道我的网络结构设置的合不合理呢？用loss曲线来看就好了。\n",
    "\n",
    "4.欠拟合与过拟合，训练集、验证集与测试集\n",
    "\n",
    "首先我们来解释一下欠拟合和过拟合。\n",
    "\n",
    "班上有张三、李四和王二麻子三个人，一起学1+1=2。\n",
    "\n",
    "张三上课睡着了，不知道1+1=？也不知道2+2=？\n",
    "\n",
    "李四上课很认真，学会了1+1=2，还举一反三会了10以内加减法。\n",
    "\n",
    "王二麻子把1+1=2背了下来。\n",
    "\n",
    "考试了，第一题是1+1=？，第二题是2+2=？\n",
    "\n",
    "张三0分，李四100分，王二麻子50分。\n",
    "\n",
    "张三没有学习到特征，即为过拟合。\n",
    "\n",
    "李四是正常的，我们希望看到的结果。\n",
    "\n",
    "王二麻子学习到了特征，但\n"
   ]
  },
  {
   "cell_type": "code",
   "execution_count": null,
   "metadata": {},
   "outputs": [],
   "source": []
  }
 ],
 "metadata": {
  "kernelspec": {
   "display_name": "Python 3",
   "language": "python",
   "name": "python3"
  },
  "language_info": {
   "codemirror_mode": {
    "name": "ipython",
    "version": 3
   },
   "file_extension": ".py",
   "mimetype": "text/x-python",
   "name": "python",
   "nbconvert_exporter": "python",
   "pygments_lexer": "ipython3",
   "version": "3.6.4"
  },
  "toc": {
   "base_numbering": 1,
   "nav_menu": {},
   "number_sections": true,
   "sideBar": true,
   "skip_h1_title": false,
   "title_cell": "Table of Contents",
   "title_sidebar": "Contents",
   "toc_cell": false,
   "toc_position": {},
   "toc_section_display": true,
   "toc_window_display": false
  },
  "varInspector": {
   "cols": {
    "lenName": 16,
    "lenType": 16,
    "lenVar": 40
   },
   "kernels_config": {
    "python": {
     "delete_cmd_postfix": "",
     "delete_cmd_prefix": "del ",
     "library": "var_list.py",
     "varRefreshCmd": "print(var_dic_list())"
    },
    "r": {
     "delete_cmd_postfix": ") ",
     "delete_cmd_prefix": "rm(",
     "library": "var_list.r",
     "varRefreshCmd": "cat(var_dic_list()) "
    }
   },
   "types_to_exclude": [
    "module",
    "function",
    "builtin_function_or_method",
    "instance",
    "_Feature"
   ],
   "window_display": false
  }
 },
 "nbformat": 4,
 "nbformat_minor": 2
}
